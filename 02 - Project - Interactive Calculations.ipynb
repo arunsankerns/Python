{
 "cells": [
  {
   "cell_type": "markdown",
   "id": "a1f9c91f",
   "metadata": {},
   "source": [
    "# Project - Interactive Calculations\n",
    "### Goal\n",
    "- Multiply two numbers\n",
    "- Days since you were born\n",
    "- Tip calculator"
   ]
  },
  {
   "cell_type": "markdown",
   "id": "be72b43f",
   "metadata": {},
   "source": [
    "### Step 1\n",
    "- Input a value from the user and keep it in variable **a**.\n",
    "- Input another value from the user and keep it in variable **b**.\n",
    "- Print the product of the two values (**a*b**)."
   ]
  },
  {
   "cell_type": "code",
   "execution_count": 4,
   "id": "229ffd0e",
   "metadata": {},
   "outputs": [
    {
     "name": "stdout",
     "output_type": "stream",
     "text": [
      "a=8\n",
      "b=5\n",
      "40.0\n"
     ]
    }
   ],
   "source": [
    "a = float(input(\"a=\"))\n",
    "b = float(input(\"b=\"))\n",
    "print(a*b)"
   ]
  },
  {
   "cell_type": "markdown",
   "id": "1a4051d2",
   "metadata": {},
   "source": [
    "### Step 2\n",
    "- Input how many years the user it.\n",
    "- Convert the years to an integer.\n",
    "- Calculate how many days, hours, minutes, and seconds since the user is born."
   ]
  },
  {
   "cell_type": "code",
   "execution_count": 5,
   "id": "c9f61930",
   "metadata": {},
   "outputs": [
    {
     "name": "stdout",
     "output_type": "stream",
     "text": [
      "How old are you?29\n",
      "You were born 10585 days or 254040hours or 15242400 minutes or 914544000 seconds ago\n"
     ]
    }
   ],
   "source": [
    "age = int(input(\"How old are you?\"))\n",
    "days = age*365\n",
    "hours = age*(365*24)\n",
    "minutes = age*(365*24*60)\n",
    "seconds = age*(365*24*60*60)\n",
    "print(f\"You were born {days} days or {hours}hours or {minutes} minutes or {seconds} seconds ago\")"
   ]
  },
  {
   "cell_type": "markdown",
   "id": "25562b72",
   "metadata": {},
   "source": [
    "### Step 3\n",
    "- Here we will make a tip calculator.\n",
    "- Input the price.\n",
    "- Convert the price to an integer.\n",
    "- Input the percentage the user wants to tip.\n",
    "- Convert the percentage to an integer.\n",
    "- Calculate the tip by the following formula: **tip = price $\\times$ percentage_tip / 100**.\n",
    "- Round the tip to two digits.\n",
    "- Print the the tip.\n",
    "- *BONUS:* Adjust the code to take float input of percentage tip"
   ]
  },
  {
   "cell_type": "code",
   "execution_count": 6,
   "id": "36cedfcb",
   "metadata": {},
   "outputs": [
    {
     "name": "stdout",
     "output_type": "stream",
     "text": [
      "Price=256\n",
      "what percentege do you want to tip?4\n",
      "The tip to give is 10.24\n"
     ]
    }
   ],
   "source": [
    "price = int(input(\"Price=\"))\n",
    "\n",
    "percentage_tip = int(input(\"what percentege do you want to tip?\"))\n",
    "\n",
    "tip = (price*percentage_tip)/100\n",
    "print(f\"The tip to give is {round(tip,2)}\")"
   ]
  },
  {
   "cell_type": "code",
   "execution_count": null,
   "id": "159c0264",
   "metadata": {},
   "outputs": [],
   "source": [
    "#BONUS"
   ]
  },
  {
   "cell_type": "code",
   "execution_count": 7,
   "id": "31b914a3",
   "metadata": {},
   "outputs": [
    {
     "name": "stdout",
     "output_type": "stream",
     "text": [
      "Price=852\n",
      "what percentege do you want to tip?5\n",
      "The tip to give is 42.6\n"
     ]
    }
   ],
   "source": [
    "price = int(input(\"Price=\"))\n",
    "\n",
    "percentage_tip = float(input(\"what percentege do you want to tip?\"))\n",
    "\n",
    "tip = (price*percentage_tip)/100\n",
    "print(f\"The tip to give is {round(tip,2)}\")"
   ]
  },
  {
   "cell_type": "code",
   "execution_count": null,
   "id": "fabc2058",
   "metadata": {},
   "outputs": [],
   "source": []
  }
 ],
 "metadata": {
  "kernelspec": {
   "display_name": "Python 3 (ipykernel)",
   "language": "python",
   "name": "python3"
  },
  "language_info": {
   "codemirror_mode": {
    "name": "ipython",
    "version": 3
   },
   "file_extension": ".py",
   "mimetype": "text/x-python",
   "name": "python",
   "nbconvert_exporter": "python",
   "pygments_lexer": "ipython3",
   "version": "3.10.5"
  }
 },
 "nbformat": 4,
 "nbformat_minor": 5
}
