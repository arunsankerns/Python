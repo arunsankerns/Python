{
 "cells": [
  {
   "cell_type": "markdown",
   "id": "38ae7ac1",
   "metadata": {},
   "source": [
    "# Project - Calculations\n",
    "## Goal\n",
    "- Using Jupyter Notebook as a Calculator\n",
    "- Understand how cells keeps track of calcualtions"
   ]
  },
  {
   "cell_type": "markdown",
   "id": "c493ca15",
   "metadata": {},
   "source": [
    "### Description\n",
    "- Create formulas\n",
    "- Have some fun with basic math"
   ]
  },
  {
   "cell_type": "markdown",
   "id": "cf44dfe2",
   "metadata": {},
   "source": [
    "### Step 1\n",
    "- Make a convertion from **kg** to **lbs**\n",
    "- Use this formula: $lbs = kg \\times 2.2046$\n",
    "- Make the cell to use variables"
   ]
  },
  {
   "cell_type": "code",
   "execution_count": 2,
   "id": "138f5d76",
   "metadata": {},
   "outputs": [
    {
     "name": "stdout",
     "output_type": "stream",
     "text": [
      "Weight in kilogram=67\n",
      "Weight in Pounds is 147.7082\n"
     ]
    }
   ],
   "source": [
    "kg = input(\"Weight in kilogram=\")\n",
    "lbs = float(kg)*2.2046\n",
    "print(\"Weight in Pounds is\",lbs)"
   ]
  },
  {
   "cell_type": "markdown",
   "id": "51604237",
   "metadata": {},
   "source": [
    "### Step 2\n",
    "- Make calculation of circumference of a circle\n",
    "- The cell should define the radius\n",
    "- Calculate the circumference by the formula: $c = 2 \\times \\pi \\times r$\n",
    "- Define $\\pi = 3.14$ (use variable name **pi**)\n",
    "- Let the cell return the circumference"
   ]
  },
  {
   "cell_type": "code",
   "execution_count": 3,
   "id": "d04920c0",
   "metadata": {},
   "outputs": [
    {
     "name": "stdout",
     "output_type": "stream",
     "text": [
      "Radius of the circle=6.28\n",
      "Circumference of the circle is  39.4384\n"
     ]
    }
   ],
   "source": [
    "r = input(\"Radius of the circle=\")\n",
    "pi = 3.14\n",
    "c = 2*pi*float(r)\n",
    "print(\"Circumference of the circle is \",c)"
   ]
  },
  {
   "cell_type": "markdown",
   "id": "469f2b84",
   "metadata": {},
   "source": [
    "### Step 3\n",
    "1. Assign a variable to a any number (integer).\n",
    "2. Multiply the number by 3.\n",
    "3. Add 6 to the result from bullet 2.\n",
    "4. Divide this number by 3.\n",
    "5. Subtract the number from bullet 1 from the answer in bullet 4.\n",
    "6. The answer is 2."
   ]
  },
  {
   "cell_type": "code",
   "execution_count": 5,
   "id": "7dc5e923",
   "metadata": {},
   "outputs": [
    {
     "name": "stdout",
     "output_type": "stream",
     "text": [
      "input an intiger6\n",
      "The answer is 2\n"
     ]
    }
   ],
   "source": [
    "var = input(\"input an intiger\")\n",
    "mul = int(var) * 3\n",
    "ad = mul + 6\n",
    "div = ad/3\n",
    "answer = div - int(var)\n",
    "\n",
    "print(\"The answer is\",int(answer))"
   ]
  },
  {
   "cell_type": "code",
   "execution_count": null,
   "id": "3e5df4a4",
   "metadata": {},
   "outputs": [],
   "source": []
  }
 ],
 "metadata": {
  "kernelspec": {
   "display_name": "Python 3 (ipykernel)",
   "language": "python",
   "name": "python3"
  },
  "language_info": {
   "codemirror_mode": {
    "name": "ipython",
    "version": 3
   },
   "file_extension": ".py",
   "mimetype": "text/x-python",
   "name": "python",
   "nbconvert_exporter": "python",
   "pygments_lexer": "ipython3",
   "version": "3.10.5"
  }
 },
 "nbformat": 4,
 "nbformat_minor": 5
}
